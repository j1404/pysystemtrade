{
 "cells": [
  {
   "cell_type": "code",
   "execution_count": null,
   "id": "initial_id",
   "metadata": {
    "ExecuteTime": {
     "end_time": "2024-09-16T17:02:00.486626Z",
     "start_time": "2024-09-16T17:01:59.876367Z"
    }
   },
   "outputs": [],
   "source": [
    "import pandas as pd\n",
    "\n",
    "from sysinit.futures.adjustedprices_from_db_multiple_to_db import process_adjusted_prices_single_instrument\n",
    "from sysinit.futures.multipleprices_from_db_prices_and_csv_calendars_to_db import process_multiple_prices_single_instrument\n",
    "from sysinit.futures.norgate_futures_contract_prices import (\n",
    "    rename_files,\n",
    "    check_prices_match, \n",
    "    transfer_norgate_prices_to_db_single, \n",
    "    transfer_norgate_prices_to_db_single_contract\n",
    ")\n",
    "from sysinit.futures.rollcalendars_from_arcticprices_to_csv import build_and_write_roll_calendar\n",
    "from sysobjects.dict_of_futures_per_contract_prices import dictFuturesContractPrices\n",
    "from sysobjects.futures_per_contract_prices import futuresContractPrices\n",
    "from sysproduction.data.prices import diagPrices\n",
    "from sysproduction.update_sampled_contracts import update_sampled_contracts\n",
    "from sysdata.csv.csv_roll_parameters import csvRollParametersData\n",
    "from sysobjects.roll_calendars import rollCalendar\n",
    "from syscore.pandas.pdutils import print_full\n",
    "\n",
    "diag_prices = diagPrices()\n",
    "#norgate_path = get_production_config().get_element_or_arg_not_supplied(\"norgate_path\")\n",
    "#norgate_path = \"/Users/ageach/Documents/backup/pst_jani/norgate/\"\n",
    "norgate_path = \"/home/alpha/data/norgate/\"\n",
    "\n",
    "# barchart import\n",
    "from sysdata.csv.csv_futures_contract_prices import csvFuturesContractPriceData\n",
    "from sysinit.futures.barchart_futures_contract_prices import (\n",
    "    BARCHART_CONFIG,\n",
    "    transfer_barchart_prices_to_db_single,\n",
    "    transfer_barchart_prices_to_db_single_contract,\n",
    ")\n",
    "barchart_path = \"/home/alpha/data/barchart\"\n",
    "\n",
    "\n",
    "# todo\n",
    "# check csv's, spike etc.: COPPER,DJSTX-SMALL,OATIES,AEX,MSCIEAFA,CHFJPY,CNH,ETHANOL,EUA,BOVESPA,CHINAA-CON,EPRA-EUROPE,JP-REALESTATE,OMX,BB3M\n",
    "# MSCISING update sampled contracts crashes on missing 20220900 contract\n",
    "# LEANHOG compare expected roll calendar with rob's\n",
    "# JPY divide/multiply by 100 to match to IB prices\n",
    "# RICE norgate has couple years more data, Norgate data needs to be divided by 100\n",
    "# ETHEREUM, MSCITAIWAN, SONIA3 rename doesn't find files, which are there???\n",
    "# CRUDE_W roll cal broken\n",
    "# CAC check prices\n",
    "\n",
    "\n",
    "# instruments added\n",
    "# 2024-10-08: SP500_micro, CORN, BUND, EUROSTX, NASDAQ_micro, WHEAT, LIVECOW, GBP, SMI, US10, US20, US5, BTP, BITCOIN, SOYOIL, REDWHEAT, FEEDCOW\n",
    "# 2024-10-09: DX, CHF, DOW, RUSSELL, SUGAR_WHITE, SUGAR11, GILT, BUXL, GOLD, GOLD_micro, NASDAQ, NASDAQ_micro\n",
    "# 2024-10-10: KOSPI, KOSPI_mini, EUR, EUR_micro\n",
    "# 2024-10-11: COCOA, COFFEE, OJ, CAD\n",
    "# 2024-10-12: FTSE100, SP400\n",
    "# 2024-10-14: GICS, ROBUSTA, GASOIL\n",
    "# 2024-10-15: US10U, US30\n",
    "\n",
    "INSTR = 'US30'\n",
    "NORGATE_TICKER = 'UB'\n",
    "print(INSTR)"
   ]
  },
  {
   "cell_type": "code",
   "execution_count": null,
   "id": "5db2d087-52ef-400d-8935-dde401e2b85d",
   "metadata": {},
   "outputs": [],
   "source": [
    "## View individual Barchart CSV price files in one plot"
   ]
  },
  {
   "cell_type": "code",
   "execution_count": null,
   "id": "3da97b0b-3e7b-43be-a39a-981ac79fe800",
   "metadata": {},
   "outputs": [],
   "source": [
    "prices = csvFuturesContractPriceData(config=BARCHART_CONFIG, datapath=barchart_path)\n",
    "price_dict = prices.get_merged_prices_for_instrument(INSTR)\n",
    "contract_data = dict([(contractid, data) for contractid, data in price_dict.items()])\n",
    "all_contract_data = dictFuturesContractPrices([(key, futuresContractPrices(x)) for key, x in contract_data.items()])\n",
    "contract_prices_final = all_contract_data.final_prices()\n",
    "all_finals = pd.concat(contract_prices_final, axis=1)\n",
    "# all_finals = all_finals[\"2022-03-01\":\"2023-02-01\"] # slice by date\n",
    "#all_finals = all_finals[[\"20230900\",\"20240300\"]] # slice by contract\n",
    "all_finals.plot(figsize=(15,9), legend=False, lw=1, grid=True, title=f\"Individual Barchart CSV contract prices for {INSTR}\")"
   ]
  },
  {
   "cell_type": "code",
   "execution_count": null,
   "id": "f9b34c5d-b525-4ec5-80e8-c97db3b03bc5",
   "metadata": {},
   "outputs": [],
   "source": [
    "## import an instrument from Barchart CSV files"
   ]
  },
  {
   "cell_type": "code",
   "execution_count": null,
   "id": "62f28283-6c3f-4b83-ae77-5ec729b32c80",
   "metadata": {},
   "outputs": [],
   "source": [
    "transfer_barchart_prices_to_db_single(\"MSCISING\", datapath=barchart_path)"
   ]
  },
  {
   "cell_type": "code",
   "execution_count": null,
   "id": "03b48718-4beb-4114-b4f7-56e51dbcac84",
   "metadata": {},
   "outputs": [],
   "source": [
    "## Import single contract from Barchart CSV files"
   ]
  },
  {
   "cell_type": "code",
   "execution_count": null,
   "id": "f04fb3db-effb-44b7-82b7-28bf5a494907",
   "metadata": {},
   "outputs": [],
   "source": [
    "transfer_barchart_prices_to_db_single_contract(\"MSCISING\", \"20220900\", datapath=barchart_path)"
   ]
  },
  {
   "cell_type": "markdown",
   "id": "38080d26e4f2177e",
   "metadata": {
    "collapsed": false,
    "jupyter": {
     "outputs_hidden": false
    }
   },
   "source": [
    "## renaming files for a single instrument from Norgate to PST format\n",
    "- this moves the files from `norgate_path/Futures` to `norgate_path/Futures_conv` "
   ]
  },
  {
   "cell_type": "code",
   "execution_count": null,
   "id": "3385d11b3f9c07cf",
   "metadata": {},
   "outputs": [],
   "source": [
    "path_str = f\"{norgate_path}/Futures\"\n",
    "rename_files(path_str, NORGATE_TICKER, dry_run=False)"
   ]
  },
  {
   "cell_type": "markdown",
   "id": "80aa7e9a1ba5406a",
   "metadata": {
    "collapsed": false,
    "jupyter": {
     "outputs_hidden": false
    }
   },
   "source": [
    "## Check that IB and Norgate/Barchart prices match\n",
    "- sometimes one is in dollars, the other cents etc\n",
    "- If there is a mismatch, make a record of the instrument code and skip it for now. We will come back to it"
   ]
  },
  {
   "cell_type": "code",
   "execution_count": null,
   "id": "751421783b56a9a8",
   "metadata": {},
   "outputs": [],
   "source": [
    "path_str = f\"{norgate_path}/Futures_conv\"\n",
    "check_prices_match(path_str, INSTR, \"20240900\")"
   ]
  },
  {
   "cell_type": "markdown",
   "id": "47c8d0192738aa45",
   "metadata": {
    "collapsed": false,
    "jupyter": {
     "outputs_hidden": false
    }
   },
   "source": [
    "## import Norgate prices\n",
    "- imports from CSV to parquet"
   ]
  },
  {
   "cell_type": "code",
   "execution_count": null,
   "id": "82d4a64636ab837f",
   "metadata": {},
   "outputs": [],
   "source": [
    "path_str = f\"{norgate_path}/Futures_conv\"\n",
    "\n",
    "for instr in [INSTR]:\n",
    "    transfer_norgate_prices_to_db_single(instr, datapath=path_str)"
   ]
  },
  {
   "cell_type": "markdown",
   "id": "1486a3be-7e6c-4820-89aa-7e8d92a63e07",
   "metadata": {},
   "source": [
    "import CSV prices for a single contract into parquet"
   ]
  },
  {
   "cell_type": "code",
   "execution_count": null,
   "id": "c6ce7b8b-f2db-4472-8514-07e61a65589f",
   "metadata": {},
   "outputs": [],
   "source": [
    "transfer_norgate_prices_to_db_single_contract(INSTR, '20221200', datapath=path_str)"
   ]
  },
  {
   "cell_type": "markdown",
   "id": "e203d7b486ef144d",
   "metadata": {
    "collapsed": false,
    "jupyter": {
     "outputs_hidden": false
    }
   },
   "source": [
    "## check contract prices\n",
    "- view each individual contract price series on a plot"
   ]
  },
  {
   "cell_type": "code",
   "execution_count": null,
   "id": "d4029bbace356d02",
   "metadata": {
    "ExecuteTime": {
     "end_time": "2024-09-16T17:02:10.835920Z",
     "start_time": "2024-09-16T17:02:08.315363Z"
    }
   },
   "outputs": [],
   "source": [
    "prices = diag_prices.db_futures_contract_price_data\n",
    "\n",
    "price_dict = prices.get_merged_prices_for_instrument(INSTR)\n",
    "contract_data = dict([(contractid, data) for contractid, data in price_dict.items()])\n",
    "all_contract_data = dictFuturesContractPrices([(key, futuresContractPrices(x)) for key, x in contract_data.items()])\n",
    "contract_prices_final = all_contract_data.final_prices()\n",
    "all_finals = pd.concat(contract_prices_final, axis=1)\n",
    "#all_finals = all_finals[\"2023-09-01\":\"2024-02-01\"] # slice by date\n",
    "#all_finals = all_finals[[\"20220900\",\"20220900\"]] # slice by contract\n",
    "all_finals.plot(figsize=(15,9), legend=False, lw=1, grid=True, title=f\"Individual contract prices for {INSTR}\")"
   ]
  },
  {
   "cell_type": "markdown",
   "id": "e5e4ce2b76469ce1",
   "metadata": {
    "collapsed": false,
    "jupyter": {
     "outputs_hidden": false
    }
   },
   "source": [
    "## view expected roll calendar"
   ]
  },
  {
   "cell_type": "code",
   "execution_count": null,
   "id": "dc5fdafdc7e1ab0e",
   "metadata": {
    "ExecuteTime": {
     "end_time": "2024-09-16T17:02:24.417949Z",
     "start_time": "2024-09-16T17:02:24.122991Z"
    }
   },
   "outputs": [],
   "source": [
    "rollparameters = csvRollParametersData()\n",
    "roll_parameters_object = rollparameters.get_roll_parameters(INSTR)\n",
    "\n",
    "prices_dict = prices.get_merged_prices_for_instrument(INSTR)\n",
    "prices_dict = prices_dict.final_prices()\n",
    "approx_roll_calendar = rollCalendar.create_approx_from_prices(\n",
    "    prices_dict, roll_parameters_object\n",
    ")\n",
    "\n",
    "print(f\"Approx roll calendar for: {INSTR}\")\n",
    "print_full(approx_roll_calendar)"
   ]
  },
  {
   "cell_type": "markdown",
   "id": "94d2d31762ee004b",
   "metadata": {
    "collapsed": false,
    "jupyter": {
     "outputs_hidden": false
    }
   },
   "source": [
    "## build roll calendar"
   ]
  },
  {
   "cell_type": "code",
   "execution_count": null,
   "id": "39e7ccf3891bdca0",
   "metadata": {
    "ExecuteTime": {
     "end_time": "2024-09-16T17:03:41.845057Z",
     "start_time": "2024-09-16T17:03:37.644906Z"
    }
   },
   "outputs": [],
   "source": [
    "roll_calendar_output = \"/home/alpha/data/futures/roll_calendars_csv\"\n",
    "#roll_calendar_output = \"/home/alpha/pysystemtrade/data/futures/roll_calendars_csv\"\n",
    "#roll_calendar_output = \"/Users/ageach/Dev/work/pst_jk/data/futures/roll_calendars_csv\"\n",
    "\n",
    "roll_cal = build_and_write_roll_calendar(\n",
    "    INSTR,\n",
    "    output_datapath=roll_calendar_output,\n",
    "    check_before_writing=False\n",
    ")"
   ]
  },
  {
   "cell_type": "code",
   "execution_count": null,
   "id": "68137dc4-43b4-4311-a9f0-d838cec1060f",
   "metadata": {
    "jupyter": {
     "outputs_hidden": false
    }
   },
   "outputs": [],
   "source": [
    "## view the prices for two contract side by side\n",
    "- this can help resolve issues like \"Couldn't find matching roll date for contracts....\"\n",
    "- enter the two offending contract keys, `earlier_contract_key` and `later_contract_key`, then run the cell"
   ]
  },
  {
   "cell_type": "code",
   "execution_count": null,
   "id": "7fd3ab17c819a20a",
   "metadata": {
    "ExecuteTime": {
     "end_time": "2024-09-16T17:26:04.963797Z",
     "start_time": "2024-09-16T17:26:04.641554Z"
    }
   },
   "outputs": [],
   "source": [
    "earlier_contract_key = \"20220900\"\n",
    "later_contract_key = \"20221200\"\n",
    "\n",
    "db_prices_dict = prices.get_merged_prices_for_instrument(INSTR)\n",
    "earlier = db_prices_dict[earlier_contract_key].return_final_prices()\n",
    "later = db_prices_dict[later_contract_key].return_final_prices()\n",
    "\n",
    "combined = pd.concat([earlier, later], axis=1)\n",
    "combined.columns = [earlier_contract_key, later_contract_key]\n",
    "\n",
    "print_full(combined)"
   ]
  },
  {
   "cell_type": "markdown",
   "id": "4abf39b0527d100d",
   "metadata": {
    "collapsed": false,
    "jupyter": {
     "outputs_hidden": false
    }
   },
   "source": [
    "## Check resulting roll calendar, editing if necessary\n",
    "- look at the actual roll calendar CSV file\n",
    "- first check the pattern of contract keys per roll date\n",
    "  - you can compare against the one provided: the contract keys for a particular date in the past should be the same\n",
    "  - for example, the second last row in Rob's was for 2022-03-10\n",
    "    - the pattern was 20220300,20220600,20220600. The new one should be the same\n",
    "- next check the last row. The date on the last row sometimes gets adjusted to the last available price row\n",
    "  - if that happens, edit to be what the date sequence says it should be\n",
    "    - for example: the last row for SP500_micro has date of 2024-09-06. That's because the prices were downloaded around 7 September 2024\n",
    "    - edit the last row to be 2024-09-11 (just look at the previous year's September row)\n",
    "- finally, if there isn't a row at the end for the next future roll date, add one\n",
    "  - so for SP500_micro, there should be a future row for around 10 December 2024. But there isn't, so add it\n",
    "  - copy the row for December 2023, and add it to the end. Then increment each of the years\n",
    "    - so '2023-12-11,20231200,20240300,20240300' becomes '2024-12-11,20241200,20250300,20250300'\n"
   ]
  },
  {
   "cell_type": "markdown",
   "id": "bd19d9e4a8047ddc",
   "metadata": {
    "collapsed": false,
    "jupyter": {
     "outputs_hidden": false
    }
   },
   "source": [
    "## Create multiple prices"
   ]
  },
  {
   "cell_type": "code",
   "execution_count": null,
   "id": "3ae0b230c589df2d",
   "metadata": {},
   "outputs": [],
   "source": [
    "print(INSTR)\n",
    "process_multiple_prices_single_instrument(INSTR, ADD_TO_CSV=False)"
   ]
  },
  {
   "cell_type": "markdown",
   "id": "e21dd2a8fd2ee37b",
   "metadata": {
    "collapsed": false,
    "jupyter": {
     "outputs_hidden": false
    }
   },
   "source": [
    "## Check multiple prices\n",
    "- check start end dates, no gaps etc"
   ]
  },
  {
   "cell_type": "code",
   "execution_count": null,
   "id": "db9dae9303601230",
   "metadata": {},
   "outputs": [],
   "source": [
    "print(INSTR)\n",
    "db_multiple_prices = diag_prices.db_futures_multiple_prices_data\n",
    "#db_multiple_prices = multiple_prices[\"2023-07-01\":\"2023-12-31\"] # slice by date\n",
    "db_multiple_prices.get_multiple_prices(INSTR).plot(figsize=(15,9), legend=False, lw=1, grid=True)"
   ]
  },
  {
   "cell_type": "markdown",
   "id": "829fc12007f22187",
   "metadata": {
    "collapsed": false,
    "jupyter": {
     "outputs_hidden": false
    }
   },
   "source": [
    "## generate adjusted prices"
   ]
  },
  {
   "cell_type": "code",
   "execution_count": null,
   "id": "4f6486ffa5331619",
   "metadata": {},
   "outputs": [],
   "source": [
    "process_adjusted_prices_single_instrument(INSTR, ADD_TO_CSV=False)"
   ]
  },
  {
   "cell_type": "markdown",
   "id": "cbc85e60036f8b55",
   "metadata": {
    "collapsed": false,
    "jupyter": {
     "outputs_hidden": false
    }
   },
   "source": [
    "## check adjusted prices"
   ]
  },
  {
   "cell_type": "code",
   "execution_count": null,
   "id": "dcc86fc649798d88",
   "metadata": {},
   "outputs": [],
   "source": [
    "print(INSTR)\n",
    "db_adjusted_prices = diag_prices.db_futures_adjusted_prices_data\n",
    "#db_adjusted_prices.get_adjusted_prices(INSTR).plot(figsize=(15,9), legend=False, lw=1, grid=True)\n",
    "db_adjusted_prices.get_adjusted_prices(\"VNKI\").plot(figsize=(15,9), legend=False, lw=1, grid=True)"
   ]
  },
  {
   "cell_type": "markdown",
   "id": "4a92901a5f16a3fb",
   "metadata": {
    "collapsed": false,
    "jupyter": {
     "outputs_hidden": false
    }
   },
   "source": [
    "## Update sampled contracts"
   ]
  },
  {
   "cell_type": "code",
   "execution_count": null,
   "id": "38ec321f92e3e805",
   "metadata": {},
   "outputs": [],
   "source": [
    "# update_sampled_contracts()\n",
    "$ python pysystemtrade/sysproduction/update_sampled_contracts.py"
   ]
  },
  {
   "cell_type": "code",
   "execution_count": null,
   "id": "dbd11a08-894d-4c00-b43f-c43405c7d961",
   "metadata": {},
   "outputs": [],
   "source": [
    "process_adjusted_prices_single_instrument(INSTR, ADD_TO_CSV=True)"
   ]
  }
 ],
 "metadata": {
  "kernelspec": {
   "display_name": "venv",
   "language": "python",
   "name": "venv"
  },
  "language_info": {
   "codemirror_mode": {
    "name": "ipython",
    "version": 3
   },
   "file_extension": ".py",
   "mimetype": "text/x-python",
   "name": "python",
   "nbconvert_exporter": "python",
   "pygments_lexer": "ipython3",
   "version": "3.10.12"
  }
 },
 "nbformat": 4,
 "nbformat_minor": 5
}
