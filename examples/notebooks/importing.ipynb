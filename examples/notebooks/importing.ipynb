{
 "cells": [
  {
   "cell_type": "code",
   "execution_count": null,
   "id": "initial_id",
   "metadata": {
    "ExecuteTime": {
     "end_time": "2024-09-16T16:46:15.142725Z",
     "start_time": "2024-09-16T16:46:14.458750Z"
    }
   },
   "outputs": [],
   "source": [
    "import pandas as pd\n",
    "\n",
    "from sysinit.futures.adjustedprices_from_db_multiple_to_db import process_adjusted_prices_single_instrument\n",
    "from sysinit.futures.multipleprices_from_db_prices_and_csv_calendars_to_db import process_multiple_prices_single_instrument\n",
    "from sysinit.futures.norgate_futures_contract_prices import rename_files, check_prices_match, transfer_norgate_prices_to_db_single\n",
    "from sysinit.futures.rollcalendars_from_arcticprices_to_csv import build_and_write_roll_calendar\n",
    "from sysobjects.dict_of_futures_per_contract_prices import dictFuturesContractPrices\n",
    "from sysobjects.futures_per_contract_prices import futuresContractPrices\n",
    "from sysproduction.data.prices import diagPrices\n",
    "from sysproduction.update_sampled_contracts import update_sampled_contracts\n",
    "from sysdata.csv.csv_roll_parameters import csvRollParametersData\n",
    "from sysobjects.roll_calendars import rollCalendar\n",
    "from syscore.pandas.pdutils import print_full\n",
    "\n",
    "diag_prices = diagPrices()\n",
    "#norgate_path = get_production_config().get_element_or_arg_not_supplied(\"norgate_path\")\n",
    "norgate_path = \"/Users/ageach/Documents/backup/pst_jani/norgate/\"\n",
    "#norgate_path = \"/home/alpha/data/norgate/\"\n",
    "print(norgate_path)\n",
    "INSTR = \"SP500_micro\""
   ]
  },
  {
   "cell_type": "markdown",
   "id": "38080d26e4f2177e",
   "metadata": {
    "collapsed": false
   },
   "source": [
    "## renaming files for a single instrument from Norgate to PST format\n",
    "- this moves the files from `norgate_path/Futures` to `norgate_path/Futures_conv` "
   ]
  },
  {
   "cell_type": "code",
   "execution_count": null,
   "id": "3385d11b3f9c07cf",
   "metadata": {},
   "outputs": [],
   "source": [
    "path_str = f\"{norgate_path}/Futures\"\n",
    "rename_files(path_str, \"ES\", dry_run=True)"
   ]
  },
  {
   "cell_type": "markdown",
   "id": "80aa7e9a1ba5406a",
   "metadata": {
    "collapsed": false
   },
   "source": [
    "## Check that IB and Norgate prices match\n",
    "- sometimes one is in dollars, the other cents etc\n",
    "- If there is a mismatch, make a record of the instrument code and skip it for now. We will come back to it"
   ]
  },
  {
   "cell_type": "code",
   "execution_count": null,
   "id": "751421783b56a9a8",
   "metadata": {},
   "outputs": [],
   "source": [
    "path_str = f\"{norgate_path}/Futures_conv\"\n",
    "check_prices_match(path_str, \"SP500_micro\", \"20240900\")"
   ]
  },
  {
   "cell_type": "markdown",
   "id": "47c8d0192738aa45",
   "metadata": {
    "collapsed": false
   },
   "source": [
    "## import Norgate prices\n",
    "- imports from CSV to parquet"
   ]
  },
  {
   "cell_type": "code",
   "execution_count": null,
   "id": "82d4a64636ab837f",
   "metadata": {},
   "outputs": [],
   "source": [
    "path_str = f\"{norgate_path}/Futures_conv\"\n",
    "\n",
    "for instr in [\"SP500_micro\"]:\n",
    "    transfer_norgate_prices_to_db_single(instr, datapath=path_str)"
   ]
  },
  {
   "cell_type": "markdown",
   "id": "e203d7b486ef144d",
   "metadata": {
    "collapsed": false
   },
   "source": [
    "## check contract prices\n",
    "- view each individual contract price series on a plot"
   ]
  },
  {
   "cell_type": "code",
   "execution_count": null,
   "id": "d4029bbace356d02",
   "metadata": {
    "ExecuteTime": {
     "end_time": "2024-09-16T16:46:39.061841Z",
     "start_time": "2024-09-16T16:46:36.668565Z"
    }
   },
   "outputs": [],
   "source": [
    "prices = diag_prices.db_futures_contract_price_data\n",
    "\n",
    "price_dict = prices.get_merged_prices_for_instrument(INSTR)\n",
    "contract_data = dict([(contractid, data) for contractid, data in price_dict.items()])\n",
    "all_contract_data = dictFuturesContractPrices([(key, futuresContractPrices(x)) for key, x in contract_data.items()])\n",
    "contract_prices_final = all_contract_data.final_prices()\n",
    "all_finals = pd.concat(contract_prices_final, axis=1)\n",
    "# all_finals = all_finals[\"2022-03-01\":\"2023-02-01\"] # slice by date\n",
    "# all_finals = all_finals[[\"20230600\",\"20231200\"]] # slice by contract\n",
    "all_finals.plot(figsize=(15,9), legend=False, lw=1, grid=True, title=f\"Individual contract prices for {INSTR}\")"
   ]
  },
  {
   "cell_type": "markdown",
   "id": "e5e4ce2b76469ce1",
   "metadata": {
    "collapsed": false
   },
   "source": [
    "## view expected roll calendar"
   ]
  },
  {
   "cell_type": "code",
   "execution_count": null,
   "id": "dc5fdafdc7e1ab0e",
   "metadata": {
    "ExecuteTime": {
     "end_time": "2024-09-16T16:48:23.721088Z",
     "start_time": "2024-09-16T16:48:23.484876Z"
    }
   },
   "outputs": [],
   "source": [
    "prices = diag_prices.db_futures_contract_price_data\n",
    "rollparameters = csvRollParametersData()\n",
    "roll_parameters_object = rollparameters.get_roll_parameters(INSTR)\n",
    "\n",
    "prices_dict = prices.get_merged_prices_for_instrument(INSTR)\n",
    "prices_dict = prices_dict.final_prices()\n",
    "approx_roll_calendar = rollCalendar.create_approx_from_prices(\n",
    "    prices_dict, roll_parameters_object\n",
    ")\n",
    "\n",
    "print(f\"Approx roll calendar for: {INSTR}\")\n",
    "print_full(approx_roll_calendar)"
   ]
  },
  {
   "cell_type": "markdown",
   "id": "94d2d31762ee004b",
   "metadata": {
    "collapsed": false
   },
   "source": [
    "## build roll calendar"
   ]
  },
  {
   "cell_type": "code",
   "execution_count": null,
   "id": "39e7ccf3891bdca0",
   "metadata": {
    "ExecuteTime": {
     "end_time": "2024-09-16T16:49:15.287791Z",
     "start_time": "2024-09-16T16:49:04.322279Z"
    }
   },
   "outputs": [],
   "source": [
    "#roll_calendar_output = \"/home/alpha/pysystemtrade/data/futures/roll_calendars_csv\"\n",
    "#roll_calendar_output = \"/Users/ageach/Dev/work/pst_jk/data/futures/roll_calendars_csv\"\n",
    "\n",
    "build_and_write_roll_calendar(\n",
    "    INSTR,\n",
    "    #output_datapath=roll_calendar_output,\n",
    "    check_before_writing=True\n",
    ")"
   ]
  },
  {
   "cell_type": "markdown",
   "id": "4abf39b0527d100d",
   "metadata": {
    "collapsed": false
   },
   "source": [
    "## Check resulting roll calendar, editing if necessary\n",
    "- look at the actual roll calendar CSV file\n",
    "- first check the pattern of contract keys per roll date\n",
    "  - you can compare against the one provided: the contract keys for a particular date in the past should be the same\n",
    "  - for example, the second last row in Rob's was for 2022-03-10\n",
    "    - the pattern was 20220300,20220600,20220600. The new one should be the same\n",
    "- next check the last row. The date on the last row sometimes gets adjusted to the last available price row\n",
    "  - if that happens, edit to be what the date sequence says it should be\n",
    "    - for example: the last row for SP500_micro has date of 2024-09-06. That's because the prices were downloaded around 7 September 2024\n",
    "    - edit the last row to be 2024-09-11 (just look at the previous year's September row)\n",
    "- finally, if there isn't a row at the end for the next future roll date, add one\n",
    "  - so for SP500_micro, there should be a future row for around 10 December 2024. But there isn't, so add it\n",
    "  - copy the row for December 2023, and add it to the end. Then increment each of the years\n",
    "    - so '2023-12-11,20231200,20240300,20240300' becomes '2024-12-11,20241200,20250300,20250300'\n"
   ]
  },
  {
   "cell_type": "markdown",
   "id": "bd19d9e4a8047ddc",
   "metadata": {
    "collapsed": false
   },
   "source": [
    "## Create multiple prices"
   ]
  },
  {
   "cell_type": "code",
   "execution_count": null,
   "id": "3ae0b230c589df2d",
   "metadata": {},
   "outputs": [],
   "source": [
    "process_multiple_prices_single_instrument(INSTR, ADD_TO_CSV=True)"
   ]
  },
  {
   "cell_type": "markdown",
   "id": "e21dd2a8fd2ee37b",
   "metadata": {
    "collapsed": false
   },
   "source": [
    "## Check multiple prices\n",
    "- check start end dates, no gaps etc"
   ]
  },
  {
   "cell_type": "code",
   "execution_count": null,
   "id": "db9dae9303601230",
   "metadata": {},
   "outputs": [],
   "source": [
    "db_multiple_prices = diag_prices.db_futures_multiple_prices_data\n",
    "#db_multiple_prices = multiple_prices[\"2023-07-01\":\"2023-12-31\"] # slice by date\n",
    "db_multiple_prices.get_multiple_prices(INSTR).plot(figsize=(15,9), legend=False, lw=1, grid=True)"
   ]
  },
  {
   "cell_type": "markdown",
   "id": "829fc12007f22187",
   "metadata": {
    "collapsed": false
   },
   "source": [
    "## generate adjusted prices"
   ]
  },
  {
   "cell_type": "code",
   "execution_count": null,
   "id": "4f6486ffa5331619",
   "metadata": {},
   "outputs": [],
   "source": [
    "process_adjusted_prices_single_instrument(INSTR, ADD_TO_CSV=True)"
   ]
  },
  {
   "cell_type": "markdown",
   "id": "cbc85e60036f8b55",
   "metadata": {
    "collapsed": false
   },
   "source": [
    "## check adjusted prices"
   ]
  },
  {
   "cell_type": "code",
   "execution_count": null,
   "id": "dcc86fc649798d88",
   "metadata": {},
   "outputs": [],
   "source": [
    "db_adjusted_prices = diag_prices.db_futures_adjusted_prices_data\n",
    "db_adjusted_prices.get_adjusted_prices(INSTR).plot(figsize=(15,9), legend=False, lw=1, grid=True)"
   ]
  },
  {
   "cell_type": "markdown",
   "id": "4a92901a5f16a3fb",
   "metadata": {
    "collapsed": false
   },
   "source": [
    "## Update sampled contracts"
   ]
  },
  {
   "cell_type": "code",
   "execution_count": null,
   "id": "38ec321f92e3e805",
   "metadata": {},
   "outputs": [],
   "source": [
    "update_sampled_contracts()"
   ]
  }
 ],
 "metadata": {
  "kernelspec": {
   "display_name": "venv",
   "language": "python",
   "name": "venv"
  },
  "language_info": {
   "codemirror_mode": {
    "name": "ipython",
    "version": 3
   },
   "file_extension": ".py",
   "mimetype": "text/x-python",
   "name": "python",
   "nbconvert_exporter": "python",
   "pygments_lexer": "ipython3",
   "version": "3.10.12"
  }
 },
 "nbformat": 4,
 "nbformat_minor": 5
}
