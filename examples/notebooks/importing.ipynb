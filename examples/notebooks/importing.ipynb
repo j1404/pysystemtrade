{
 "cells": [
  {
   "cell_type": "code",
   "execution_count": 1,
   "id": "initial_id",
   "metadata": {
    "ExecuteTime": {
     "end_time": "2024-09-13T08:38:28.413234Z",
     "start_time": "2024-09-13T08:38:27.904855Z"
    }
   },
   "outputs": [
    {
     "name": "stdout",
     "output_type": "stream",
     "text": [
      "Configuring sim logging\n",
      "2024-09-13 16:04:27 DEBUG config {'type': 'config', 'stage': 'config'} Adding config defaults\n",
      "Private configuration private/private_config.yaml does not exist; no problem if running in sim mode\n"
     ]
    }
   ],
   "source": [
    "import pandas as pd\n",
    "\n",
    "from sysdata.csv.csv_futures_contract_prices import ConfigCsvFuturesPrices\n",
    "from sysinit.futures.adjustedprices_from_db_multiple_to_db import process_adjusted_prices_single_instrument\n",
    "from sysinit.futures.multipleprices_from_db_prices_and_csv_calendars_to_db import process_multiple_prices_single_instrument\n",
    "from sysinit.futures.norgate_futures_contract_prices import rename_files, check_prices_match, transfer_norgate_prices_to_db_single\n",
    "from sysinit.futures.rollcalendars_from_arcticprices_to_csv import build_and_write_roll_calendar\n",
    "from sysobjects.dict_of_futures_per_contract_prices import dictFuturesContractPrices\n",
    "from sysobjects.futures_per_contract_prices import futuresContractPrices\n",
    "from sysproduction.data.prices import diagPrices\n",
    "from sysproduction.update_sampled_contracts import update_sampled_contracts\n",
    "\n",
    "diag_prices = diagPrices()\n",
    "\n",
    "\n"
   ]
  },
  {
   "cell_type": "markdown",
   "id": "38080d26e4f2177e",
   "metadata": {
    "collapsed": false,
    "jupyter": {
     "outputs_hidden": false
    }
   },
   "source": [
    "## renaming files for a single instrument from Norgate to PST format\n",
    "- this moves the files from `datapath` to `datapath`_conv "
   ]
  },
  {
   "cell_type": "code",
   "execution_count": 2,
   "id": "3385d11b3f9c07cf",
   "metadata": {},
   "outputs": [
    {
     "name": "stdout",
     "output_type": "stream",
     "text": [
      "Successfully mapped: []\n",
      "Unmapped: []\n",
      "Not properly configured in pysystemtrade: []\n",
      "No roll config in pysystemtrade: []\n"
     ]
    }
   ],
   "source": [
    "datapath = \"/home/alpha/data/norgate/Futures\"\n",
    "#datapath = \"/Users/ageach/Documents/backup/pst_jani/norgate/Futures\"\n",
    "\n",
    "# rename_files(datapath, \"ES\", dry_run=True)\n",
    "rename_files(datapath, \"ES\", dry_run=False)\n"
   ]
  },
  {
   "cell_type": "markdown",
   "id": "2007bf06f3f71a7",
   "metadata": {
    "collapsed": false,
    "jupyter": {
     "outputs_hidden": false
    }
   },
   "source": [
    "## renaming files for ALL instruments from Norgate to PST format"
   ]
  },
  {
   "cell_type": "code",
   "execution_count": null,
   "id": "a2b88b14239f800f",
   "metadata": {},
   "outputs": [],
   "source": [
    "datapath = \"/home/alpha/data/norgate/Futures\"\n",
    "#datapath = \"/Users/ageach/Documents/backup/pst_jani/norgate/Futures\"\n",
    "\n",
    "rename_files(datapath, dry_run=True)\n",
    "#rename_files(datapath, dry_run=False)"
   ]
  },
  {
   "cell_type": "markdown",
   "id": "80aa7e9a1ba5406a",
   "metadata": {
    "collapsed": false,
    "jupyter": {
     "outputs_hidden": false
    }
   },
   "source": [
    "## Check that IB and Norgate prices match\n",
    "- sometimes one is in dollars, the other cents etc\n",
    "- If there is a mismatch, make a record of the instrument code and skip it for now. We will come back to it"
   ]
  },
  {
   "cell_type": "code",
   "execution_count": null,
   "id": "751421783b56a9a8",
   "metadata": {},
   "outputs": [],
   "source": [
    "datapath = \"/home/alpha/data/norgate/Futures_conv\"\n",
    "#datapath = \"/Users/ageach/Documents/backup/pst_jani/norgate/Futures_conv\"\n",
    "\n",
    "check_prices_match(datapath, \"SP500_micro\", \"20240900\")"
   ]
  },
  {
   "cell_type": "markdown",
   "id": "47c8d0192738aa45",
   "metadata": {
    "collapsed": false,
    "jupyter": {
     "outputs_hidden": false
    }
   },
   "source": [
    "## import Norgate prices\n",
    "- imports from CSV to parquet"
   ]
  },
  {
   "cell_type": "code",
   "execution_count": null,
   "id": "82d4a64636ab837f",
   "metadata": {
    "ExecuteTime": {
     "end_time": "2024-09-13T08:38:39.902117Z",
     "start_time": "2024-09-13T08:38:37.360126Z"
    }
   },
   "outputs": [],
   "source": [
    "datapath = \"/home/alpha/data/norgate/Futures_conv\"\n",
    "#datapath = \"/Users/ageach/Documents/backup/pst_jani/norgate/Futures_conv\"\n",
    "\n",
    "# TODO - should adjust_hours be +23 or -1?\n",
    "NORGATE_CONFIG = ConfigCsvFuturesPrices(\n",
    "    input_date_index_name=\"Date\",\n",
    "    input_skiprows=0,\n",
    "    input_skipfooter=0,\n",
    "    input_date_format=\"%Y-%m-%d\",\n",
    "    input_column_mapping=dict(\n",
    "        OPEN=\"Open\", HIGH=\"High\", LOW=\"Low\", FINAL=\"Close\", VOLUME=\"Volume\"\n",
    "    ),\n",
    "    adjust_hours=-1,\n",
    ")\n",
    "\n",
    "for instr in [\"SP500_micro\"]:\n",
    "    transfer_norgate_prices_to_db_single(instr, datapath=datapath)"
   ]
  },
  {
   "cell_type": "code",
   "execution_count": null,
   "id": "d4029bbace356d02",
   "metadata": {
    "ExecuteTime": {
     "end_time": "2024-09-13T08:39:22.272720Z",
     "start_time": "2024-09-13T08:39:20.837585Z"
    }
   },
   "outputs": [],
   "source": [
    "INSTR = \"SP500_micro\"\n",
    "\n",
    "prices = diag_prices.db_futures_contract_price_data\n",
    "\n",
    "price_dict = prices.get_merged_prices_for_instrument(INSTR)\n",
    "contract_data = dict([(contractid, data) for contractid, data in price_dict.items()])\n",
    "all_contract_data = dictFuturesContractPrices([(key, futuresContractPrices(x)) for key, x in contract_data.items()])\n",
    "contract_prices_final = all_contract_data.final_prices()\n",
    "all_finals = pd.concat(contract_prices_final, axis=1)\n",
    "# all_finals = all_finals[\"2022-03-01\":\"2023-02-01\"] # slice by date\n",
    "# all_finals = all_finals[[\"20230600\",\"20231200\"]] # slice by contract\n",
    "all_finals.plot(figsize=(15,9), legend=False, lw=1, grid=True, title=f\"Individual contract prices for {INSTR}\")"
   ]
  },
  {
   "cell_type": "code",
   "execution_count": null,
   "id": "39e7ccf3891bdca0",
   "metadata": {
    "ExecuteTime": {
     "end_time": "2024-09-13T08:39:34.274051Z",
     "start_time": "2024-09-13T08:39:32.688299Z"
    }
   },
   "outputs": [],
   "source": [
    "roll_calendar_output = \"/home/alpha/pysystemtrade/data/futures/roll_calendars_csv\"\n",
    "#roll_calendar_output = \"/Users/ageach/Dev/work/pst_jk/data/futures/roll_calendars_csv\"\n",
    "\n",
    "build_and_write_roll_calendar(\n",
    "    INSTR,\n",
    "    output_datapath=roll_calendar_output,\n",
    "    check_before_writing=False\n",
    ")"
   ]
  },
  {
   "cell_type": "markdown",
   "id": "4abf39b0527d100d",
   "metadata": {
    "collapsed": false,
    "jupyter": {
     "outputs_hidden": false
    }
   },
   "source": [
    "## Check resulting roll calendar, editing if necessary\n",
    "- look at the actual roll calendar CSV file\n",
    "- first check the pattern of contract keys per roll date\n",
    "  - you can compare against the one provided: the contract keys for a particular date in the past should be the same\n",
    "  - for example, the second last row in Rob's was for 2022-03-10\n",
    "    - the pattern was 20220300,20220600,20220600. The new one should be the same\n",
    "- next check the last row. The date on the last row sometimes gets adjusted to the last available price row\n",
    "  - if that happens, edit to be what the date sequence says it should be\n",
    "    - for example: the last row for SP500_micro has date of 2024-09-06. That's because the prices were downloaded around 7 September 2024\n",
    "    - edit the last row to be 2024-09-11 (just look at the previous year's September row)\n",
    "- finally, if there isn't a row at the end for the next future roll date, add one\n",
    "  - so for SP500_micro, there should be a future row for around 10 December 2024. But there isn't, so add it\n",
    "  - copy the row for December 2023, and add it to the end. Then increment each of the years\n",
    "    - so '2023-12-11,20231200,20240300,20240300' becomes '2024-12-11,20241200,20250300,20250300'\n"
   ]
  },
  {
   "cell_type": "markdown",
   "id": "bd19d9e4a8047ddc",
   "metadata": {
    "collapsed": false,
    "jupyter": {
     "outputs_hidden": false
    }
   },
   "source": [
    "## Create multiple prices\n"
   ]
  },
  {
   "cell_type": "code",
   "execution_count": null,
   "id": "3ae0b230c589df2d",
   "metadata": {
    "ExecuteTime": {
     "end_time": "2024-09-13T08:41:01.985798Z",
     "start_time": "2024-09-13T08:41:00.122179Z"
    }
   },
   "outputs": [],
   "source": [
    "process_multiple_prices_single_instrument(INSTR, ADD_TO_CSV=True)"
   ]
  },
  {
   "cell_type": "markdown",
   "id": "e21dd2a8fd2ee37b",
   "metadata": {
    "collapsed": false,
    "jupyter": {
     "outputs_hidden": false
    }
   },
   "source": [
    "## Check multiple prices\n",
    "- check start end dates, no gaps etc"
   ]
  },
  {
   "cell_type": "code",
   "execution_count": null,
   "id": "db9dae9303601230",
   "metadata": {
    "ExecuteTime": {
     "end_time": "2024-09-13T08:41:13.250418Z",
     "start_time": "2024-09-13T08:41:13.063712Z"
    }
   },
   "outputs": [],
   "source": [
    "db_multiple_prices = diag_prices.db_futures_multiple_prices_data\n",
    "#db_multiple_prices = multiple_prices[\"2023-07-01\":\"2023-12-31\"] # slice by date\n",
    "db_multiple_prices.get_multiple_prices(INSTR).plot(figsize=(15,9), legend=False, lw=1, grid=True)"
   ]
  },
  {
   "cell_type": "markdown",
   "source": [
    "## generate adjusted prices"
   ],
   "metadata": {
    "collapsed": false
   },
   "id": "829fc12007f22187"
  },
  {
   "cell_type": "code",
   "execution_count": null,
   "id": "4f6486ffa5331619",
   "metadata": {
    "ExecuteTime": {
     "end_time": "2024-09-13T08:41:27.436783Z",
     "start_time": "2024-09-13T08:41:26.920878Z"
    }
   },
   "outputs": [],
   "source": [
    "process_adjusted_prices_single_instrument(INSTR, ADD_TO_CSV=True)"
   ]
  },
  {
   "cell_type": "markdown",
   "source": [
    "## check adjusted prices"
   ],
   "metadata": {
    "collapsed": false
   },
   "id": "cbc85e60036f8b55"
  },
  {
   "cell_type": "code",
   "execution_count": null,
   "id": "dcc86fc649798d88",
   "metadata": {
    "ExecuteTime": {
     "end_time": "2024-09-13T08:43:39.728507Z",
     "start_time": "2024-09-13T08:43:39.567841Z"
    }
   },
   "outputs": [],
   "source": [
    "db_adjusted_prices = diag_prices.db_futures_adjusted_prices_data\n",
    "db_adjusted_prices.get_adjusted_prices(INSTR).plot(figsize=(15,9), legend=False, lw=1, grid=True)"
   ]
  },
  {
   "cell_type": "markdown",
   "id": "4a92901a5f16a3fb",
   "metadata": {
    "collapsed": false,
    "jupyter": {
     "outputs_hidden": false
    }
   },
   "source": [
    "## Update sampled contracts"
   ]
  },
  {
   "cell_type": "code",
   "execution_count": null,
   "id": "38ec321f92e3e805",
   "metadata": {
    "ExecuteTime": {
     "end_time": "2024-09-13T08:44:07.729505Z",
     "start_time": "2024-09-13T08:43:53.452653Z"
    }
   },
   "outputs": [],
   "source": [
    "update_sampled_contracts()"
   ]
  },
  {
   "cell_type": "code",
   "execution_count": null,
   "id": "c965d69b2ddbf32c",
   "metadata": {},
   "outputs": [],
   "source": []
  }
 ],
 "metadata": {
  "kernelspec": {
   "display_name": "venv",
   "language": "python",
   "name": "venv"
  },
  "language_info": {
   "codemirror_mode": {
    "name": "ipython",
    "version": 3
   },
   "file_extension": ".py",
   "mimetype": "text/x-python",
   "name": "python",
   "nbconvert_exporter": "python",
   "pygments_lexer": "ipython3",
   "version": "3.10.12"
  }
 },
 "nbformat": 4,
 "nbformat_minor": 5
}
