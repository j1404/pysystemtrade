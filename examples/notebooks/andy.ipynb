{
 "cells": [
  {
   "cell_type": "code",
   "execution_count": null,
   "id": "ef8f992d-75af-4aa6-af4b-3b21e7c4330a",
   "metadata": {},
   "outputs": [],
   "source": [
    "import pandas as pd\n",
    "\n",
    "from sysobjects.dict_of_futures_per_contract_prices import dictFuturesContractPrices\n",
    "from sysobjects.futures_per_contract_prices import futuresContractPrices\n",
    "from sysdata.csv.csv_futures_contract_prices import csvFuturesContractPriceData\n",
    "from sysinit.futures.barchart_futures_contract_prices import (\n",
    "    BARCHART_CONFIG,\n",
    "    transfer_barchart_prices_to_db_single,\n",
    "    transfer_barchart_prices_to_db_single_contract,\n",
    ")\n",
    "\n",
    "#barchart_path = \"/Users/ageach/Dev/work/pyhistprice/data/barchart\"\n",
    "barchart_path = \"/home/alpha/data/barchart\"\n",
    "\n",
    "INSTR = \"MSCISING\""
   ]
  },
  {
   "cell_type": "markdown",
   "id": "2261cee0-98df-44d4-ace6-b1659e6f0c3d",
   "metadata": {},
   "source": [
    "## View individual CSV price files in one plot"
   ]
  },
  {
   "cell_type": "code",
   "execution_count": null,
   "id": "81cc5902-d5b4-4581-9845-006f130771f9",
   "metadata": {},
   "outputs": [],
   "source": [
    "prices = csvFuturesContractPriceData(config=BARCHART_CONFIG, datapath=barchart_path)\n",
    "price_dict = prices.get_merged_prices_for_instrument(INSTR)\n",
    "contract_data = dict([(contractid, data) for contractid, data in price_dict.items()])\n",
    "all_contract_data = dictFuturesContractPrices([(key, futuresContractPrices(x)) for key, x in contract_data.items()])\n",
    "contract_prices_final = all_contract_data.final_prices()\n",
    "all_finals = pd.concat(contract_prices_final, axis=1)\n",
    "# all_finals = all_finals[\"2022-03-01\":\"2023-02-01\"] # slice by date\n",
    "#all_finals = all_finals[[\"20230900\",\"20240300\"]] # slice by contract\n",
    "all_finals.plot(figsize=(15,9), legend=False, lw=1, grid=True, title=f\"Individual CSV contract prices for {INSTR}\")"
   ]
  },
  {
   "cell_type": "markdown",
   "id": "41becc92-a907-40ab-9d0f-31fbca7a1738",
   "metadata": {},
   "source": [
    "## import an instrument from Barchart CSV files"
   ]
  },
  {
   "cell_type": "code",
   "execution_count": null,
   "id": "0d385c6e-f752-42f7-af15-dbd92d4754b7",
   "metadata": {},
   "outputs": [],
   "source": [
    "transfer_barchart_prices_to_db_single(\"MSCISING\", datapath=barchart_path)"
   ]
  },
  {
   "cell_type": "markdown",
   "id": "9edf8f41-6383-4790-9416-bbfb373597b2",
   "metadata": {},
   "source": [
    "## Import single contract from Barchart CSV files"
   ]
  },
  {
   "cell_type": "code",
   "execution_count": null,
   "id": "69fc1bd8-c05b-4222-acb9-b33699244b69",
   "metadata": {},
   "outputs": [],
   "source": [
    "transfer_barchart_prices_to_db_single_contract(\"MSCISING\", \"20230300\", datapath=barchart_path)"
   ]
  }
 ],
 "metadata": {
  "kernelspec": {
   "display_name": "Python 3 (ipykernel)",
   "language": "python",
   "name": "python3"
  },
  "language_info": {
   "codemirror_mode": {
    "name": "ipython",
    "version": 3
   },
   "file_extension": ".py",
   "mimetype": "text/x-python",
   "name": "python",
   "nbconvert_exporter": "python",
   "pygments_lexer": "ipython3",
   "version": "3.10.12"
  }
 },
 "nbformat": 4,
 "nbformat_minor": 5
}
